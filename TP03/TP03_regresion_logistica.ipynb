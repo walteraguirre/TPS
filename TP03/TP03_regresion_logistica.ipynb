{
  "cells": [
    {
      "cell_type": "markdown",
      "metadata": {
        "id": "0ji50fX2J2xn"
      },
      "source": [
        "# **TP03 - Regresión Logística**\n",
        "\n",
        "<p align=\"center\">\n",
        "  <image src=\"https://github.com/walteraguirre/TPS/blob/main/TP03/imagenes/enunciado.png?raw=true\" alt=\"Descripción de la imagen\">\n",
        "</p>"
      ]
    },
    {
      "cell_type": "markdown",
      "metadata": {
        "id": "0doZAScSJ2xr"
      },
      "source": [
        "## **Análisis**\n",
        "\n",
        "<p align=\"center\">\n",
        "  <image src=\"https://github.com/walteraguirre/TPS/blob/main/TP03/imagenes/ej1_.png?raw=true\" alt=\"Descripción de la imagen\">\n",
        "</p>"
      ]
    },
    {
      "cell_type": "markdown",
      "metadata": {
        "id": "eLkxvBPJJ2xr"
      },
      "source": [
        "### **Regresión Logística**\n",
        "\n",
        "La **regresión logística** es un modelo de clasificación utilizado principalmente para problemas donde la variable de salida es binaria. Se basa en la regresión lineal, pero en lugar de predecir valores continuos, aplica la función sigmoide para convertir la salida en una probabilidad comprendida entre 0 y 1.  \n",
        "\n",
        "El modelo se define como:  \n",
        "\n",
        "$$\n",
        "P(y=1 | x) = \\sigma (w^T x + b) =\\frac{1}{1 + e^{-(w^T x + b)}} = p\n",
        "$$\n",
        "\n",
        "donde:  \n",
        "\n",
        "- $ P(y=1 | x) $ representa la probabilidad de que la clase sea 1 dado un vector de entrada $ x $.  \n",
        "- $ w $ es el vector de pesos del modelo.  \n",
        "- $ b $ es el sesgo (bias).  \n",
        "- La función sigmoide $ \\sigma(z) = \\frac{1}{1 + e^{-z}} $ transforma la salida de la combinación lineal en un valor entre 0 y 1.  \n",
        "\n",
        "---\n",
        "\n",
        "### **Cálculo de la inversa $\\sigma^{-1}(p)$ con $p \\in (0,1)$**\n",
        "\n",
        "Sabemos que:\n",
        "\n",
        "$$\n",
        "\\sigma(z) = \\frac{1}{1 + e^{-z}} = p\n",
        "$$\n",
        "\n",
        "\n",
        "Lo que queremos ahora, es encontrar una expresión para $z$ en función de p, es decir, $z = \\sigma^{-1}(p)$.\n",
        "\n",
        "Partimos de que:\n",
        "\n",
        "$$\n",
        "p = \\frac{1}{1 + e^{-z}}\n",
        "$$\n",
        "\n",
        "Multiplicamos ambos miembros por $1 + e^{-z}$ para eliminar el denominador:\n",
        "\n",
        "$$\n",
        "p \\ (1+e^{-z}) = 1\n",
        "$$\n",
        "\n",
        "Distribuimos $p$:\n",
        "\n",
        "$$\n",
        "p + p \\ e^{-z} = 1\n",
        "$$\n",
        "\n",
        "Despejamos $e^{-z}$:\n",
        "\n",
        "$$\n",
        "e^{-z} = \\frac{1-p}{p}\n",
        "$$\n",
        "\n",
        "\n",
        "Aplicando logaritmo a ambos miembros:\n",
        "\n",
        "$$\n",
        "-z = ln\\left( \\frac{1-p}{p}  \\right)\n",
        "$$\n",
        "\n",
        "\n",
        "Multiplicamos por $-1$ ambos miembros:\n",
        "\n",
        "$$\n",
        "z = \\sigma^{-1}(p) = -ln\\left( \\frac{1-p}{p}  \\right)\n",
        "$$\n",
        "\n",
        "Por lo tanto la expresión de $\\sigma^{-1}(p)$ nos queda de la siguiente manera:\n",
        "\n",
        "$$\n",
        "z = \\sigma^{-1}(p) = ln\\left( \\frac{p}{1-p}  \\right)\n",
        "$$\n",
        "\n",
        "A $z$ se lo conoce como logit.\n",
        "\n",
        "---\n",
        "\n",
        "### **Cálculo de la derivada de $\\sigma(z)$**\n",
        "\n",
        "Nos piden calcular la derivada de la función sigmoide:\n",
        "\n",
        "$$\n",
        "\\sigma'(z) = \\frac{\\text{d}}{\\text{d} z} \\left( \\frac{1}{1 + e^{-z}} \\right)\n",
        "$$\n",
        "\n",
        "Aplicando reglas de derivación, especificamente la regla del cociente, obtenemos lo siguiente:\n",
        "\n",
        "$$\n",
        "\\sigma'(z) = \\frac{0 \\ \\left(1+e^{-z} \\right) + 1 \\ \\left( -e^{-z} \\right) }{\\left( 1 + e^{-z}  \\right)^2}\n",
        "$$\n",
        "\n",
        "$$\n",
        "\\sigma'(z) = \\frac{e^{-z}}{\\left( 1 + e^{-z}  \\right)^2}\n",
        "$$\n",
        "\n",
        "\n",
        "Ahora queremos expresar el resultado en función de $p$. Para ello partimos de que:\n",
        "\n",
        "$$\n",
        "p = \\frac{1}{1+e^{-z}}\n",
        "$$\n",
        "\n",
        "$$\n",
        "\\Rightarrow \\frac{1}{p} = 1 + e^{-z}\n",
        "$$\n",
        "\n",
        "Por lo tanto, reemplazando que $1+e^{-z} = \\frac{1}{p}$ y que $e^{-z} = \\frac{1}{p} - 1$, podemos obtener la siguiente expresión:\n",
        "\n",
        "$$\n",
        "\\sigma'(z) = \\frac{ \\frac{1}{p} - 1 }{\\left( \\frac{1}{p} \\right)^2}\n",
        "$$\n",
        "\n",
        "Distribuyendo el denominador:\n",
        "\n",
        "$$\n",
        "\\sigma'(z) = p \\ (1-p)\n",
        "$$\n",
        "\n",
        "\n",
        "Por lo tanto la derivada de la función sigmoide en función de $p$ es la siguiente:\n",
        "\n",
        "$$\n",
        "\\sigma'(z) = p \\ (1-p)\n",
        "$$\n",
        "\n",
        "Este resultado es muy útil porque evita depender directamente de $z$ y solo usa $p$ que es la salida de la sigmoide.\n",
        "\n",
        "---\n",
        "\n",
        "### **Expresión analítica para la función costo y su gradiente**\n",
        "\n",
        "Dado que estamos analizando un problema de clasificación binaria, la función costo que se utiliza es la función de costo de entropía cruzada que tiene la siguiente expresión:\n",
        "\n",
        "\n",
        "### **1. Función de Costo**\n",
        "La función de costo de la regresión logística binaria es:\n",
        "\n",
        "$$\n",
        "J(w, b) = -\\frac{1}{n} \\sum_{i=1}^{n} \\left[ Y_i\\ ln(\\sigma(w^T X_i + b)) + (1 - Y_i) \\ ln(1 - \\sigma(w^T X_i + b)) \\right]\n",
        "$$\n",
        "\n",
        "donde:  \n",
        "- $ n $ es el número de muestras.  \n",
        "- $ Y_i $ es la etiqueta real de la muestra $ i $ ($ 0 $ o $ 1 $).  \n",
        "- $ X_i $ es el vector de características de la muestra $ i $.  \n",
        "- $ w $ es el vector de pesos.  \n",
        "- $ b $ es el sesgo.  \n",
        "- $ \\sigma(z) = \\frac{1}{1 + e^{-z}} $ es la función sigmoide.  \n",
        "\n",
        "Esta función mide la diferencia entre la probabilidad predicha por el modelo y la etiqueta real.\n",
        "\n",
        "---\n",
        "\n",
        "### **2. Gradiente de la Función de Costo**\n",
        "Para obtener el gradiente de la función costo, necesitamos calcular las derivadas parciales de $ J(w, b) $ respecto a $ w $ y $ b $.\n",
        "\n",
        "Antes de obtener el gradiente, definimos algunas expresiones que nos serán útiles:\n",
        "\n",
        "#### **a. Derivada de $\\sigma$ con respecto a $w$**  \n",
        "\n",
        "Aplicamos regla de la cadena:\n",
        "\n",
        "$$\n",
        "\\frac{\\partial}{\\partial w} \\left( \\sigma(w^T X_i + b) \\right) = X_i \\ \\sigma'(w^T X_i + b)\n",
        "$$\n",
        "\n",
        "#### **b. Derivada de $\\sigma$ con respecto a $b$**\n",
        "\n",
        "$$\n",
        "\\frac{\\partial}{\\partial b} \\left( \\sigma(w^T X_i + b) \\right)= \\sigma'(w^T X_i + b)\n",
        "$$\n",
        "\n",
        "\n",
        "Además, de los resultados previos, podemos decir que:\n",
        "\n",
        "$$\n",
        "\\text{Si } \\ \\sigma(w^T X_i + b) = p_i \\ \\ \\rightarrow \\ \\  \\sigma'(w^T X_i + b) = p_i \\ (1 - p_i)\n",
        "$$\n",
        "\n",
        "Por lo tanto, las derivadas parciales serán:\n",
        "\n",
        "$$\n",
        "\\frac{\\partial}{\\partial w} \\left( \\sigma(w^T X_i + b) \\right)= X_i \\ p_i \\ (1 - p_i)\n",
        "$$\n",
        "\n",
        "$$\n",
        "\\frac{\\partial}{\\partial b} \\left( \\sigma(w^T X_i + b) \\right)= p_i \\ (1 - p_i)\n",
        "$$\n",
        "\n",
        "\n",
        "Ahora si procedemos al cálculo del gradiente de la función costo:\n",
        "\n",
        "### **Derivada de la función costo con respecto a $w$**\n",
        "\n",
        "\n",
        "Derivamos la función de costo respecto a  $w$:\n",
        "\n",
        "$$\n",
        "\\frac{\\partial J}{\\partial w} = -\\frac{1}{n} \\sum_{i=1}^{n} \\left[ Y_i \\ \\frac{1}{\\sigma(w^T X_i + b)} \\ \\frac{\\partial}{\\partial w} \\ \\big( \\sigma(w^T X_i + b) \\big) + (1 - Y_i) \\ \\frac{1}{1 - \\sigma(w^T X_i + b)} \\ \\frac{\\partial}{\\partial w} \\ \\big( 1-\\sigma(w^T X_i + b) \\big) \\right]\n",
        "$$\n",
        "\n",
        "\n",
        "Reemplazando los resultados previos para obtener una expresión simplificada en función de $p_i$:\n",
        "\n",
        "$$\n",
        "\\frac{\\partial J}{\\partial w} = -\\frac{1}{n} \\sum_{i=1}^{n} \\left[ Y_i \\ \\frac{1}{p_i} \\  p_i \\  (1 - p_i) \\ X_i + (1 - Y_i) \\  \\frac{1}{1 - p_i} \\ (-p_i) \\ (1 - p_i) X_i \\right]\n",
        "$$\n",
        "\n",
        "Simplificando:\n",
        "\n",
        "$$\n",
        "\\frac{\\partial J}{\\partial w} = -\\frac{1}{n} \\sum_{i=1}^{n} \\left[ Y_i \\ (1 - p_i) \\ X_i - (1 - Y_i) \\  p_i \\ X_i \\right]\n",
        "$$\n",
        "\n",
        "Sacando factor común $X_i$:\n",
        "\n",
        "$$\n",
        "\\frac{\\partial J}{\\partial w} = -\\frac{1}{n} \\sum_{i=1}^{n} X_i \\ \\left[ Y_i - Y_i \\ p_i - \\left( p_i - Y_i \\ p_i \\right) \\right]\n",
        "$$\n",
        "\n",
        "Por lo que la expresión final queda como:\n",
        "\n",
        "$$\n",
        "\\frac{\\partial J}{\\partial w} = -\\frac{1}{n} \\sum_{i=1}^{n} X_i ( Y_i - p_i )\n",
        "$$\n",
        "\n",
        "---\n",
        "\n",
        "### **Derivada de la función costo con respecto a $ b $**\n",
        "\n",
        "\n",
        "La deducción es similar:\n",
        "\n",
        "$$\n",
        "\\frac{\\partial J}{\\partial b} = -\\frac{1}{n} \\sum_{i=1}^{n} \\left[ Y_i \\frac{1}{\\sigma(w^T X_i + b)} \\frac{\\partial}{\\partial b} \\ \\sigma(w^T X_i + b) - (1 - Y_i) \\frac{1}{1 - \\sigma(w^T X_i + b)} \\frac{\\partial}{\\partial b} \\ \\sigma(w^T X_i + b) \\right]\n",
        "$$\n",
        "\n",
        "Reescribiendo para que la expresión nos quede en función de $p_i$:\n",
        "\n",
        "$$\n",
        "\\frac{\\partial J}{\\partial b} = -\\frac{1}{n} \\sum_{i=1}^{n} \\left[ Y_i \\frac{1}{p_i} \\ p_i \\ (1 - p_i) + (1 - Y_i) \\frac{1}{1 - p_i} \\ (-p_i) \\ (1 - p_i) \\right]\n",
        "$$\n",
        "\n",
        "Simplificando:\n",
        "\n",
        "$$\n",
        "\\frac{\\partial J}{\\partial b} = -\\frac{1}{n} \\sum_{i=1}^{n} \\left[ Y_i \\ (1 - p_i) - (1 - Y_i) \\ p_i \\right]\n",
        "$$\n",
        "\n",
        "$$\n",
        "\\frac{\\partial J}{\\partial b} = -\\frac{1}{n} \\sum_{i=1}^{n} \\left[ Y_i - Y_i \\ p_i - (p_i - Y_i \\ p_i) \\right]\n",
        "$$\n",
        "\n",
        "Por lo que la expresión queda de la siguiente manera:\n",
        "\n",
        "$$\n",
        "\\frac{\\partial J}{\\partial b} = -\\frac{1}{n} \\sum_{i=1}^{n} \\left[ Y_i - p_i \\right]\n",
        "$$\n",
        "\n",
        "---\n",
        "\n",
        "### **3. Resumen**\n",
        "\n",
        "1. **Función costo:**  \n",
        "\n",
        "   $$\n",
        "   J(w, b) = -\\frac{1}{n} \\sum_{i=1}^{n} \\left[ Y_i \\  ln(p_i) + (1 - Y_i) \\ ln(1 - p_i) \\right]\n",
        "   $$\n",
        "\n",
        "2. **Gradientes:**  \n",
        "\n",
        "   $$\n",
        "   \\frac{\\partial J}{\\partial w} = \\frac{1}{n} \\sum_{i=1}^{n} ( p_i - Y_i ) X_i\n",
        "   $$\n",
        "\n",
        "   $$\n",
        "   \\frac{\\partial J}{\\partial b} = \\frac{1}{n} \\sum_{i=1}^{n} (p_i - Y_i)\n",
        "   $$\n",
        "\n",
        "\n",
        "Con $p_i = \\sigma(w^T \\ X_i + b)$\n",
        "\n",
        "---"
      ]
    },
    {
      "cell_type": "markdown",
      "metadata": {
        "id": "bbt73en5J2xu"
      },
      "source": [
        "## **Pre procesamiento**\n",
        "\n",
        "<p align=\"center\">\n",
        "  <image src=\"https://github.com/walteraguirre/TPS/blob/main/TP03/imagenes/ej2.png?raw=true\" alt=\"Descripción de la imagen\">\n",
        "</p>"
      ]
    },
    {
      "cell_type": "code",
      "execution_count": 43,
      "metadata": {
        "id": "xHlKrpwyJ2xv"
      },
      "outputs": [],
      "source": [
        "import kagglehub\n",
        "import os\n",
        "from PIL import Image\n",
        "import numpy as np\n",
        "import matplotlib.pyplot as plt\n",
        "import random\n",
        "import scipy.sparse.linalg\n",
        "from sklearn.model_selection import train_test_split\n",
        "from sklearn.linear_model import LogisticRegression\n",
        "from sklearn.preprocessing import PolynomialFeatures\n",
        "from sklearn.metrics import accuracy_score, roc_curve, auc\n",
        "from io import BytesIO\n",
        "import requests\n",
        "from sklearn.pipeline import Pipeline\n",
        "from sklearn.preprocessing import StandardScaler"
      ]
    },
    {
      "cell_type": "markdown",
      "metadata": {
        "id": "OaFdBmsuJ2xw"
      },
      "source": [
        "### **Descarga del dataset**\n",
        "\n",
        "Para poder obtener el dataset, utilizamos la librería `kagglehub`. Ésta librería de Python nos permite acceder y descargar datasets de Kaggle de manera más sencilla, sin necesidad de autenticación manual ni de configurar credenciales. Basicamente, es una herramienta que nos facilita la descarga de datasets públicos directamente a nuestro entorno de trabajo sin tener que usar la API de Kaggle tradicional.\n",
        "\n",
        "$$$$\n",
        "\n",
        "Los datasets se descargan en el directorio de caché predeterminado. Por lo tanto si queremos cambiar el directorio podemos usar la siguiente linea:\n",
        "\n",
        "`os.environ[\"KAGGLEHUB_CACHE\"] = os.getcwd()`\n",
        "\n",
        "Ésta línea de codigo configura el directorio actual como el directorio donde se descargarán los archivos de `kagglehub`.\n",
        "\n",
        "Una vez configurado el directorio de descarga, utilizamos el comando `dataset_download()` de `kagglehub` especificando la ruta del dataset en `Kaggle`. En nuestro caso vamos a descargar el dataset \"Cats and Dogs Classification Dataset\", creado por Bhavik Jikadara, que contiene aproximadamente 25 mil imagenes, la mitad correspondientes a imágenes perros y la otra mitad son imágenes de gatos.\n",
        "\n",
        "---\n",
        "\n",
        "### **Lectura de los archivos**\n",
        "\n",
        "Una vez descargado el dataset, vamos a crear dos listas, una llamada `images` donde se van a almacenar las imagenes correspondientes al dataset, y otra lista llamada `labels` donde se guardaran las etiquetas correspondientes, $0$ si es un gato y $1$ si es un perro.\n",
        "\n",
        "Luego recorriendo los archivos de las carpetas correspondientes a las imágenes de perros y gatos, vamos a realizar lo siguiente:\n",
        "\n",
        "1. Con `image.open(file_path)` vamos a abrir la imágen correspondiente a `file_path`.\n",
        "2. Con `convert('L')` se convierte la imágen a escala de grises.\n",
        "3. Con `resize(target_size)` redimensionamos la escala según `target_size`, en nuestro caso queremos redimensionar la imágen a un tamaño de $16 \\text{x} 16$.\n",
        "4. Por último guardamos la imágen en `images` como un vector unidimensional de `Numpy` (aplanado utilizando `flatten`) y en `labels` guardamos la etiqueta correspondiente.\n",
        "\n",
        "\n",
        "Luego de leer todas las imágenes, elegimos 5 al azar y lo mostramos en un plot."
      ]
    },
    {
      "cell_type": "code",
      "execution_count": 44,
      "metadata": {
        "colab": {
          "base_uri": "https://localhost:8080/",
          "height": 248
        },
        "id": "nRKiqdZaJ2xw",
        "outputId": "0b034930-ad42-4655-f6df-06ebb92a6583"
      },
      "outputs": [
        {
          "name": "stderr",
          "output_type": "stream",
          "text": [
            "/usr/local/lib/python3.11/dist-packages/PIL/TiffImagePlugin.py:949: UserWarning: Truncated File Read\n",
            "  warnings.warn(str(msg))\n"
          ]
        },
        {
          "data": {
            "image/png": "[encoded data removed]",
            "text/plain": [
              "<Figure size 1500x300 with 5 Axes>"
            ]
          },
          "metadata": {},
          "output_type": "display_data"
        }
      ],
      "source": [
        "#primero cambiamos el directorio donde se va a descargar el dataset\n",
        "os.environ[\"KAGGLEHUB_CACHE\"] = os.getcwd()\n",
        "\n",
        "#descargamos el dataset\n",
        "kagglehub.dataset_download(\"bhavikjikadara/dog-and-cat-classification-dataset\")\n",
        "\n",
        "\n",
        "# Directorios donde se encuentran las imagenes\n",
        "folders = [\n",
        "    r\"datasets/bhavikjikadara/dog-and-cat-classification-dataset/versions/1/PetImages/Cat\",\n",
        "    r\"datasets/bhavikjikadara/dog-and-cat-classification-dataset/versions/1/PetImages/Dog\"\n",
        "]\n",
        "\n",
        "# creamos listas donde se van a guardar las imagenes con sus etiquetas correspondientes (0 para gato; 1 para perro)\n",
        "images = []\n",
        "labels = []\n",
        "\n",
        "# Tamaño deseado\n",
        "target_size = (16, 16)\n",
        "\n",
        "# Recorremos las carpetas\n",
        "for label, folder_path in enumerate(folders):  # label: 0 para gatos y 1 para perros\n",
        "    for filename in os.listdir(folder_path):\n",
        "        file_path = os.path.join(folder_path, filename) #file_path: ruta del archivo\n",
        "\n",
        "        try:\n",
        "            # abrimos la imagen y la convertimos a escala de grises\n",
        "            img = Image.open(file_path).convert('L')\n",
        "\n",
        "            # redimensionamos la imagen para que sea de 16x16\n",
        "            img = img.resize(target_size)\n",
        "\n",
        "            # Aplanamos la imagen con flatten (para que quede como un vector) y guardamos la imagen con su correspondiente etiqueta\n",
        "            images.append(np.array(img).flatten())\n",
        "            labels.append(label)  # etiqueta\n",
        "\n",
        "        except Exception as e:\n",
        "            print(f\"Error al procesar {filename}: {e}\")\n",
        "\n",
        "\n",
        "# Seleccionamos 5 imágenes aleatorias de la lista\n",
        "random_images = random.sample(images, 5)\n",
        "\n",
        "# Creamos una figura para mostrar las imágenes\n",
        "fig, axes = plt.subplots(1, 5, figsize=(15, 3))\n",
        "\n",
        "for i, ax in enumerate(axes):\n",
        "    ax.imshow(np.array(random_images[i]).reshape(target_size), cmap='gray')  # Mostrar la imagen en escala de grises\n",
        "    ax.axis('off')  # No mostrar los ejes\n",
        "\n",
        "plt.show()\n",
        "\n"
      ]
    },
    {
      "cell_type": "markdown",
      "metadata": {
        "id": "u6svJAu0J2xx"
      },
      "source": [
        "### **División de los conjuntos de datos**\n",
        "\n",
        "Para poder dividir los datos y obtener un conjunto de entrenamiento y testeo, utilizamos `train_test_split()` de la librería `sklearn`. Esta función divide los datos de forma aleatoria, lo que ayuda a obtener conjuntos balanceados y representativos.\n",
        "\n",
        "Definiendo `train_size = 20000` nos aseguramos que la cantidad de datos del conjunto de entrenamiento contenga 20000 muestras y que el resto de muestras formarán parte del conjunto de testeo.\n"
      ]
    },
    {
      "cell_type": "code",
      "execution_count": 45,
      "metadata": {
        "colab": {
          "base_uri": "https://localhost:8080/",
          "height": 211
        },
        "id": "Gd0dhfsgJ2xx",
        "outputId": "5315a18d-f24f-4a56-e360-ad6ef387b60c"
      },
      "outputs": [
        {
          "data": {
            "image/png": "[encoded data removed]",
            "text/plain": [
              "<Figure size 1500x300 with 5 Axes>"
            ]
          },
          "metadata": {},
          "output_type": "display_data"
        }
      ],
      "source": [
        "#armado de los conjuntos de entrenamiento, validacion y testeo\n",
        "\n",
        "# Dividimos los datos en conjunto de entrenamiento y conjunto de prueba\n",
        "X_train, X_test, y_train, y_test = train_test_split(images, labels, train_size=20000)\n",
        "\n",
        "# Seleccionamos las 5 primeras imágenes de X_train\n",
        "first_images = X_train[:5]\n",
        "\n",
        "# Creamos una figura para mostrar las imágenes\n",
        "fig, axes = plt.subplots(1, 5, figsize=(15, 3))\n",
        "\n",
        "for i, ax in enumerate(axes):\n",
        "    ax.imshow(np.array(first_images[i]).reshape(16, 16), cmap='gray')\n",
        "    ax.axis('off')  # No mostrar los ejes\n",
        "\n",
        "plt.show()\n",
        "\n"
      ]
    },
    {
      "cell_type": "markdown",
      "metadata": {
        "id": "LLOLBzGTJ2xy"
      },
      "source": [
        "---\n",
        "\n",
        "## **Clasificación**\n",
        "\n",
        "<p align=\"center\">\n",
        "  <image src=\"https://github.com/walteraguirre/TPS/blob/main/TP03/imagenes/ej3.png?raw=true\" alt=\"Descripción de la imagen\">\n",
        "</p>\n",
        "\n",
        "---\n",
        "\n",
        "### **Regresión Logística sin regularización**\n",
        "\n",
        "Para poder implementar una regresión logística sin regularización, utilizamos `LogisticRegression` de la librería `sklearn`.\n",
        "\n",
        "Para indicar que la regresión sea sin regularización, podemos configurar el parametro `C` en un valor muy grande (mientras más grande es `C`, hay menor regularización) o sino podemos desactivar la penalización con el parámetro `penalty=None`. Tambien configuramos `solver = 'lbfgs'`, ya que es recomendado para una cantidad grande datos y ademas resuelve regularización L2 de manera eficiente.\n",
        "\n",
        "Antes de entrenar el modelo, es importante normalizar los datos para mejorar la convergencia del algoritmo. Para ello, utilizamos StandardScaler(), que escala los datos para que tengan media 0 y varianza 1.\n",
        "\n",
        "Para facilitar el proceso de normalización y ajuste del modelo, usamos Pipeline. Esto permite aplicar la normalización y la regresión logística en un solo paso, evitando la necesidad de transformar los datos manualmente antes de entrenar el modelo.\n",
        "\n",
        "Para entrenar el modelo, utlizamos el método `fit` pasandole los datos de entrenamiento y los labels correspondientes.\n",
        "\n",
        "Luego de entrenar el modelo, realizamos las predicciones de los conjuntos de entrenamiento y de testeo utilizando el método `predict`.\n",
        "\n",
        "Por último, una vez que tenemos las predicciones, pasamos a calcular el `accuaracy` o precisión de dichas predicciones. Esto se puede calcular como:\n",
        "\n",
        "$$\n",
        "\\text{Accuaracy} = \\frac{\\text{Número de predicciones correctas}}{\\text{Total de muestras}}\n",
        "$$"
      ]
    },
    {
      "cell_type": "code",
      "execution_count": 46,
      "metadata": {
        "colab": {
          "base_uri": "https://localhost:8080/"
        },
        "id": "8OpwT4MkJ2xy",
        "outputId": "cb92f580-eeaf-410b-a486-d69b45315840"
      },
      "outputs": [
        {
          "name": "stdout",
          "output_type": "stream",
          "text": [
            "Precisión en el conjunto de entrenamiento: 0.5888\n",
            "Precisión en el conjunto de prueba: 0.5668\n"
          ]
        }
      ],
      "source": [
        "#funcion para calcular el accuaracy\n",
        "def calcular_accuaracy(y_true, y_pred):\n",
        "  return np.mean( (y_true == y_pred) )\n",
        "\n",
        "\n",
        "# Creamos un pipeline para poder combinar la normalizacion de los datos de entrada y luego aplicar la regresión logística sin regularización\n",
        "#para escalar los datos utilizamos StandarScaler() para que los datos tengan media 0 y varianza 1\n",
        "model = Pipeline([\n",
        "    ('scaler', StandardScaler()), #normalizacion\n",
        "    ('regressor', LogisticRegression(penalty=None, solver='lbfgs', max_iter=5000)) #regresión logística, definimos C grande para que no se aplique regularización\n",
        "])\n",
        "\n",
        "# Entrenamos el modelo\n",
        "model.fit(X_train, y_train)\n",
        "\n",
        "# Predecimos las etiquetas de las muestras de entrenamiento\n",
        "y_train_pred = model.predict(X_train)\n",
        "\n",
        "# Predecimos las etiquetas de las muestras de prueba\n",
        "y_test_pred = model.predict(X_test)\n",
        "\n",
        "# Calcular la precisión para entrenamiento y testeo\n",
        "train_accuracy = calcular_accuaracy(y_train, y_train_pred)\n",
        "test_accuracy = calcular_accuaracy(y_test, y_test_pred)\n",
        "\n",
        "# Mostrar los resultados\n",
        "print(f\"Precisión en el conjunto de entrenamiento: {train_accuracy:.4f}\")\n",
        "print(f\"Precisión en el conjunto de prueba: {test_accuracy:.4f}\")\n"
      ]
    },
    {
      "cell_type": "markdown",
      "metadata": {
        "id": "G15pidw0J2xy"
      },
      "source": [
        "### **Resultados**\n",
        "\n",
        "| **Métrica**                  | **Valor**     |\n",
        "|------------------------------|--------------|\n",
        "| **Precisión en entrenamiento** | $\\sim 58 \\%$       |\n",
        "| **Precisión en prueba**       | $\\sim 55-56 \\%$     |\n",
        "\n",
        "*** Estos valores pueden cambiar ya que depende de `train_test_split` que arma los conjuntos de entrenamiento y de testeo de forma aleatoria, pero estan en un entorno de esos valores.\n",
        "\n",
        "Se puede observar que la precisión tanto en el conjunto de entrenamiento como en el de prueba está entre un 55-60%, lo que indica un rendimiento apenas superior a un modelo aleatorio (que tendría una precisión del 50%).\n",
        "\n",
        "No podemos afirmar que haya overfitting, ya que las precisiones en ambos conjuntos son similares. Si hubiera sobreajuste, la precisión en el entrenamiento sería significativamente mayor que en la prueba. Sin embargo, el modelo no generaliza bien, ya que la precisión sigue siendo baja en ambos casos.\n",
        "\n",
        "Conclusión: la regresión logística sin regularización, si bien es mejor que un modelo aleatorio, la precisión del modelo sigue siendo baja.\n",
        "\n",
        "---"
      ]
    },
    {
      "cell_type": "markdown",
      "metadata": {
        "id": "tbOXBdKfJ2xz"
      },
      "source": [
        "## **Cross-Entropy**\n",
        "\n",
        "La **entropía cruzada** (cross-entropy) es la función de pérdida utilizada en regresión logística. Mide qué tan bien el modelo predice probabilidades para las clases correctas.\n",
        "\n",
        "Se define como:\n",
        "\n",
        "$$\n",
        "H(p, q) = - \\sum_{i} p_i \\log q_i\n",
        "$$\n",
        "\n",
        "Donde:\n",
        "- $ p_i $ es la distribución real de clases (valores 0 o 1 en clasificación binaria).\n",
        "- $ q_i $ es la probabilidad predicha por el modelo.\n",
        "\n",
        "\n",
        "En el caso de **regresión logística binaria**, si tenemos dos clases (0 y 1), la función de pérdida de **entropía cruzada** es:\n",
        "\n",
        "$$\n",
        "H = - \\frac{1}{N} \\sum_{i=1}^{N} \\left[ y_i \\log(\\hat{y}_i) + (1 - y_i) \\log(1 - \\hat{y}_i) \\right]\n",
        "$$\n",
        "\n",
        "Donde:\n",
        "- $ N $ es el número total de muestras.\n",
        "- $ y_i $ es la etiqueta real (0 o 1).\n",
        "- $ \\hat{y}_i $ es la probabilidad predicha de que la muestra pertenezca a la clase 1.\n",
        "\n",
        "La entropía cruzada penaliza más fuertes las predicciones erróneas con alta confianza. Por ejemplo:\n",
        "\n",
        "1. Si la etiqueta real es 1 y el modelo predice $\\hat{y} = 0.99$, la pérdida es baja.\n",
        "2. Si la etiqueta real es 1 y el modelo predice $\\hat{y} = 0.01$, la pérdida es alta.\n",
        "\n",
        "---\n",
        "\n",
        "### **Implementación de la entropía cruzada**\n",
        "\n",
        "Para la implementación de la entropía cruzada vamos a definir una función que reciba como parametros `y_true` que corresponde a las etiquetas reales del conjunto al que se le quiere calcular la entropía cruzada; y también recibe como parámetro `log_proba` que es el resultado de aplicar `predict_log_proba()` sobre un conjunto X.\n",
        "\n",
        "Hay que tener en cuenta que `predict_log_proba` nos devuelve una matriz de N filas y 2 columnas (en este caso son 2 ya que estamos analizando clasificación binaria), donde los valores de la primer columna corresponden al logaritmo de la probabilidad de que la clase sea 0, y la segunda columna corresponde al logaritmo de la probabilidad de que la clase sea 1 para cada valor del conjunto X. También se debe tener en cuenta que algunos valores de `predict_log_proba` pueden ser `-inf`, esto pasa cuando alguna probabilidad es 0, y como $log(0)$ no está definida, computacionalmente se le asigna `-inf`\n",
        "\n",
        "Con `log_q = log_proba[np.arange(len(y_true)), y_true]`, nos quedamos con el logaritmo de la probabilidad correspondiente a la clase correcta para cada valor del conjunto X.\n",
        "\n",
        "Luego, para aplicar la condición de continuidad que $p = q = 0$, entonces $p \\ log(q) = 0$, buscamos los valores donde `log_q` es `-inf` y lo reemplazamos por 0.\n",
        "\n",
        "Por último devolvemos `-np.mean(log_q)` que nos devuelve la esperanza de $log(q)$ cambiado de signo."
      ]
    },
    {
      "cell_type": "code",
      "execution_count": 47,
      "metadata": {
        "colab": {
          "base_uri": "https://localhost:8080/"
        },
        "id": "oJ21JcmRJ2xz",
        "outputId": "927ab698-ce35-485d-da16-d66bc8f9f084"
      },
      "outputs": [
        {
          "name": "stdout",
          "output_type": "stream",
          "text": [
            "Cross-entropy en el conjunto de entrenamiento: 0.6717\n",
            "Cross-entropy en el conjunto de prueba: 0.6861\n"
          ]
        }
      ],
      "source": [
        "# Función para calcular la cross-entropy\n",
        "#y_true: son las etiquetas reales de los datos a analizar\n",
        "#log_proba: contiene el logaritmo de las probabilidades de que la clase sea 0 o de que la clase sea 1.\n",
        "def cross_entropy(y_true, log_proba):\n",
        "\n",
        "    # Extraemos las probabilidades logarítmicas correspondientes a las clases correctas\n",
        "    log_q = log_proba[np.arange(len(y_true)), y_true]\n",
        "\n",
        "    # Si log_q es -inf (q=0), convertirlo en 0\n",
        "    log_q = np.where(np.isneginf(log_q), 0, log_q)\n",
        "\n",
        "    # Calculamos la cross-entropy\n",
        "    return -np.mean(log_q)\n",
        "\n",
        "\n",
        "\n",
        "# Entrena el modelo con los datos escalados\n",
        "model.fit(X_train, y_train)\n",
        "\n",
        "# Predecimos las probabilidades logarítmicas\n",
        "log_proba_train = model.predict_log_proba(X_train)\n",
        "log_proba_test = model.predict_log_proba(X_test)\n",
        "\n",
        "# Calculamos la cross-entropy para entrenamiento y testeo\n",
        "train_cross_entropy = cross_entropy(y_train, log_proba_train)\n",
        "test_cross_entropy = cross_entropy(y_test, log_proba_test)\n",
        "\n",
        "\n",
        "# Mostramos los resultados\n",
        "print(f\"Cross-entropy en el conjunto de entrenamiento: {train_cross_entropy:.4f}\")\n",
        "print(f\"Cross-entropy en el conjunto de prueba: {test_cross_entropy:.4f}\")"
      ]
    },
    {
      "cell_type": "markdown",
      "metadata": {
        "id": "Jionxae0J2xz"
      },
      "source": [
        "### **Resultados de la entropía cruzada**  \n",
        "\n",
        "| **Métrica**                        | **Valor**  |\n",
        "|------------------------------------|------------|\n",
        "| **Cross-entropy en entrenamiento** | $\\sim 0.67$     |\n",
        "| **Cross-entropy en prueba**        | $\\sim 0.68$    |\n",
        "\n",
        "\n",
        "La entropía cruzada mide qué tan bien las probabilidades predichas por el modelo se alinean con las etiquetas reales. Un valor menor indica mejores predicciones, mientras que valores más altos sugieren que el modelo tiene más incertidumbre o comete más errores.\n",
        "\n",
        "En nuestro caso, los valores dados son relativamente altos, lo cual nos indica que el modelo está lejos de ser ideal, ya que aún presenta una alta incertidumbre en sus predicciones.\n",
        "\n",
        "---"
      ]
    },
    {
      "cell_type": "markdown",
      "metadata": {
        "id": "_kBsVHNhJ2xz"
      },
      "source": [
        "### **Predicción del consejero con el modelo sin regularización**\n",
        "\n",
        "Para obtener la imágen del consejero que se encuentra en el repositorio de github de la materia, utilizamos el método `get` de la librería `request` especificando la URL de la imágen.\n",
        "\n",
        "Una vez descargada la imágen, realizamos el mismo preprocesamiento aplicado anteriormente con el dataset, es decir, convertimos la imágen a escala de grises y redimensionamos la imágen a un tamaño `target_size` (16x16).\n",
        "\n",
        "Luego, con el método `predict`, obtenemos la predicción del modelo de regresión logística sin regularización para la imágen del consejero."
      ]
    },
    {
      "cell_type": "code",
      "execution_count": 48,
      "metadata": {
        "colab": {
          "base_uri": "https://localhost:8080/",
          "height": 465
        },
        "id": "eFk2ipznJ2xz",
        "outputId": "809b7a42-765c-44ad-8e53-55b34257aafa"
      },
      "outputs": [
        {
          "name": "stdout",
          "output_type": "stream",
          "text": [
            "Imagen descargada con éxito.\n"
          ]
        },
        {
          "data": {
            "image/png": "[encoded data removed]",
            "text/plain": [
              "<Figure size 640x480 with 1 Axes>"
            ]
          },
          "metadata": {},
          "output_type": "display_data"
        },
        {
          "name": "stdout",
          "output_type": "stream",
          "text": [
            "Clase predicha: 0\n"
          ]
        }
      ],
      "source": [
        "# URL de la imagen del consejero del github de la materia\n",
        "consejero_url = \"https://github.com/mvera1412/TA136-TB056-TB057-8625/blob/main/data/consejero.png?raw=true\"\n",
        "\n",
        "# Descargamos la imagen\n",
        "response = requests.get(consejero_url)\n",
        "if response.status_code == 200:\n",
        "    image_consejero = Image.open(BytesIO(response.content))\n",
        "    print(\"Imagen descargada con éxito.\")\n",
        "else:\n",
        "    print(\"Error al descargar la imagen.\")\n",
        "\n",
        "# Convertimos a escala de grises\n",
        "image_consejero = image_consejero.convert(\"L\")\n",
        "\n",
        "# Redimensionamos a 16x16\n",
        "image_consejero_resized = image_consejero.resize(target_size)\n",
        "\n",
        "# Mostrar la imagen sin ejes\n",
        "plt.imshow(image_consejero_resized, cmap='gray')\n",
        "plt.title(\"Imagen Consejero 16x16\")\n",
        "plt.axis('off')  # Desactivar los ejes\n",
        "plt.show()\n",
        "\n",
        "#escalo la imagen\n",
        "img_consejero_flatten = np.array(image_consejero_resized).flatten()\n",
        "\n",
        "# Clasificar la imagen utilizando el modelo entrenado\n",
        "predicted_class = model.predict([img_consejero_flatten])\n",
        "\n",
        "print(f\"Clase predicha: {predicted_class[0]}\")"
      ]
    },
    {
      "cell_type": "markdown",
      "metadata": {
        "id": "fqr5NZAqJ2x0"
      },
      "source": [
        "Dado que este modelo tiene una precisión apenas superior a la de un clasificador aleatorio, su capacidad para generalizar no es muy buena. Por lo que, en algunas ejecuciones predice la clase 0 (gato) y en otras la clase 1 (perro) para la imágen del consejero, lo que evidencia que no es un modelo confiable para esta tarea.\n",
        "\n",
        "---"
      ]
    },
    {
      "cell_type": "markdown",
      "metadata": {
        "id": "unfZhbc1J2x0"
      },
      "source": [
        "## **Regularización**\n",
        "\n",
        "<p align=\"center\">\n",
        "  <image src=\"https://github.com/walteraguirre/TPS/blob/main/TP03/imagenes/ej4.png?raw=true\" alt=\"Descripción de la imagen\">\n",
        "</p>\n",
        "\n",
        "---\n",
        "\n",
        "La regresión logística con regularización se define agregando un término de penalización a la función de pérdida de entropía cruzada para evitar el sobreajuste, por lo que la expresión con regularización L2 queda de la siguiente forma:\n",
        "\n",
        "$$\n",
        "H = - \\frac{1}{N} \\sum_{i=1}^{N} \\left[ y_i \\log(\\hat{y}_i) + (1 - y_i) \\log(1 - \\hat{y}_i) \\right] + \\lambda ||w||^2\n",
        "$$\n",
        "\n",
        "Donde:\n",
        "- $ N $ es el número total de muestras.\n",
        "- $ y_i $ es la etiqueta real (0 o 1).\n",
        "- $ \\hat{y}_i $ es la probabilidad predicha de que la muestra pertenezca a la clase 1.\n",
        "- $\\lambda$ es el coeficiente que controla la penalización de la regularización\n",
        "- $||w||^2$ es el cuadrado de la norma L2 de $w$.\n",
        "\n",
        "\n",
        "Para poder implementar ésto, `LogisticRegression` define un parámetro `C` que es la inversa del coeficiente de penalización, por lo tanto $\\lambda = \\frac{1}{C}$. De esta forma si queremos mayor penalización, debemos definir un valor de `C` pequeño, y si queremos que el coeficiente de penalización no influya demasiado, debemos definir un valor de `C` alto. Otra forma para incorporar el término de penalización es con el parámetro `penalty='l2'`, que configura el parámetro `C` como `C=1`.\n",
        "\n",
        "El enunciado nos pide utilizar un mapa polinómico de orden 2, para ello utilizamos `PolynomialFeatures` de la librería `sklearn` con `degree=2`.\n",
        "\n",
        "También vamos a utilizar `StandarScaler()` para normalizar los datos luego de aplicar el mapa polinómico para que el conjunto tenga media 0 y varianza 1.\n",
        "\n",
        "Para el modelo de regresión logística con regularización definimos el parámetro `penalty = 'l2'` para indicar que se está utilizando una regularización L2.\n",
        "\n",
        "Utilizando Pipeline podemos encadenar todos estos pasos.\n",
        "\n",
        "Por último, realizamos las predicciones correspondientes y calculamos la precisión sobre los conjuntos de entrenamiento y testeo.\n",
        "\n",
        "### Curvas ROC\n",
        "\n",
        "Para comparar el rendimiento del modelo con y sin regularización, se grafican las curvas ROC (Receiver Operating Characteristic). Estas curvas permiten visualizar el comportamiento del clasificador en distintos umbrales de decisión ( $w^T X + b \\lessgtr t$ ), midiendo:\n",
        "\n",
        "- FTR (False Positive Rate)\n",
        "- TPR (True Positive Rate)\n",
        "\n",
        "Para poder graficar las curvas ROC, primero obtenemos las probabilidades sobre el conjunto de testeo de ambos modelos utilizando `predict_proba`, y nos quedamos con las probabilidades de la clase positiva.\n",
        "\n",
        "Luego, utilizando `roc_curve` de la librería `sklearn`, pasandole como argumento, las etiquetas verdaderas y las probabilidades de que la clase sea positiva, obtenemos la tasa de falsos positivos (FPR) y la tasa de verdaderos positivos (TPR).\n",
        "\n",
        "Esto lo realizamos para ambos modelos y luego graficamos las curvas ROC de ambos modelos, junto con la curva ROC del modelo aleatorio.\n",
        "\n",
        "También calculamos el área debajo de la curva (AUC) que nos indica que tan bueno es el clasificador:\n",
        "\n",
        "- Si AUC = 1 es un clasificador perfecto.\n",
        "- Si AUC > $0.5$ es mejor que un clasificador aleatorio\n",
        "- Si AUC < $0.5$ tiene un desempeño peor que un clasificador aleatorio.\n",
        "\n",
        "\n",
        "\n"
      ]
    },
    {
      "cell_type": "code",
      "execution_count": 49,
      "metadata": {
        "colab": {
          "base_uri": "https://localhost:8080/",
          "height": 750
        },
        "id": "067rXa1yJ2x1",
        "outputId": "7039ec9f-cc59-4d9b-8505-89f3fadd5a1b"
      },
      "outputs": [
        {
          "name": "stderr",
          "output_type": "stream",
          "text": [
            "/usr/local/lib/python3.11/dist-packages/sklearn/linear_model/_logistic.py:465: ConvergenceWarning: lbfgs failed to converge (status=1):\n",
            "STOP: TOTAL NO. of ITERATIONS REACHED LIMIT.\n",
            "\n",
            "Increase the number of iterations (max_iter) or scale the data as shown in:\n",
            "    https://scikit-learn.org/stable/modules/preprocessing.html\n",
            "Please also refer to the documentation for alternative solver options:\n",
            "    https://scikit-learn.org/stable/modules/linear_model.html#logistic-regression\n",
            "  n_iter_i = _check_optimize_result(\n"
          ]
        },
        {
          "name": "stdout",
          "output_type": "stream",
          "text": [
            "Precisión con regularización - Entrenamiento: 0.9811\n",
            "Precisión con regularización - Testeo: 0.6196\n"
          ]
        },
        {
          "data": {
            "image/png": "[encoded data removed]",
            "text/plain": [
              "<Figure size 800x600 with 1 Axes>"
            ]
          },
          "metadata": {},
          "output_type": "display_data"
        }
      ],
      "source": [
        "# Definimos pipelines para los modelos de regresión logística con y sin regularización\n",
        "\n",
        "#Pipeline del modelo de regresión logística con regularización\n",
        "model_reg = Pipeline([\n",
        "    ('poly', PolynomialFeatures(degree=2, include_bias=False)),  # Mapa polinómico de orden 2\n",
        "    ('scaler', StandardScaler()),  # normalización\n",
        "    ('regressor', LogisticRegression(penalty='l2', solver='lbfgs', max_iter=1500))  # Regresión logística con regularización\n",
        "])\n",
        "\n",
        "# Entrenamos el modelo\n",
        "model_reg.fit(X_train, y_train)\n",
        "\n",
        "# Obtenemos las predicciones de los conjuntos de entrenamiento y de testeo\n",
        "y_train_pred_reg = model_reg.predict(X_train)\n",
        "y_test_pred_reg = model_reg.predict(X_test)\n",
        "\n",
        "# Calculamos precisión\n",
        "train_acc_reg = calcular_accuaracy(y_train, y_train_pred_reg)\n",
        "test_acc_reg = calcular_accuaracy(y_test, y_test_pred_reg)\n",
        "\n",
        "print(f\"Precisión con regularización - Entrenamiento: {train_acc_reg:.4f}\")\n",
        "print(f\"Precisión con regularización - Testeo: {test_acc_reg:.4f}\")\n",
        "\n",
        "# Obtenemos las probabilidades para la curva ROC\n",
        "y_scores = model.predict_proba(X_test)[:,1]\n",
        "y_scores_reg = model_reg.predict_proba(X_test)[:, 1]\n",
        "\n",
        "# Calculamos curvas ROC\n",
        "fpr, tpr, _ = roc_curve(y_test, y_scores)\n",
        "fpr_reg, tpr_reg, _ = roc_curve(y_test, y_scores_reg)\n",
        "\n",
        "random_fpr, random_tpr, _ = roc_curve(y_test, np.random.rand(len(y_test))) #modelo aleatorio\n",
        "\n",
        "# Calculamos AUC\n",
        "auc_no_reg = auc(fpr, tpr)\n",
        "auc_reg = auc(fpr_reg, tpr_reg)\n",
        "auc_random = auc(random_fpr, random_tpr)\n",
        "\n",
        "# Graficamos las curvas ROC\n",
        "plt.figure(figsize=(8, 6))\n",
        "plt.plot(fpr, tpr, label=f\"Sin regularización (AUC={auc_no_reg:.2f})\", linestyle='--')\n",
        "plt.plot(fpr_reg, tpr_reg, label=f\"Con regularización (AUC={auc_reg:.2f})\", linestyle='-')\n",
        "plt.plot(random_fpr, random_tpr, label=f\"Aleatorio (AUC={auc_random:.2f})\", linestyle='dotted', color='gray')\n",
        "\n",
        "plt.xlabel(\"FPR (Tasa de falsos positivos)\")\n",
        "plt.ylabel(\"TPR (Tasa de verdaderos positivos)\")\n",
        "plt.title(\"Curvas ROC: Clasificadores con y sin regularización\")\n",
        "plt.legend()\n",
        "plt.grid()\n",
        "plt.show()\n"
      ]
    },
    {
      "cell_type": "markdown",
      "metadata": {
        "id": "Eax8a4OBJ2x1"
      },
      "source": [
        "### **Resultados de la regresión logística con y sin regularización**\n",
        "\n",
        "| **Modelo**               | **Precisión en Entrenamiento** | **Precisión en Testeo** |\n",
        "|--------------------------|-----------------------------|------------------------|\n",
        "| **Sin regularización**   | $\\sim 58\\%$                      | $\\sim 55-56 \\%$                 |\n",
        "| **Con regularización**   | $\\sim 95-98 \\%$                      | $\\sim 61-63 \\%$                 |\n",
        "\n",
        "*** Estos valores pueden cambiar ya que depende de `train_test_split` que arma los conjuntos de entrenamiento y de testeo de forma aleatoria, pero estan en un entorno de esos valores.\n",
        "\n",
        "### **Conclusiones**\n",
        "\n",
        "En el modelo de regresión logística sin regularización, observamos una precisión del 58% en entrenamiento y alrededor del 55% en testeo, lo que sugiere que el modelo tiene dificultades para generalizar. Esto se confirma también con su bajo AUC de 0.59, apenas superior a un clasificador aleatorio.\n",
        "\n",
        "En cambio, el modelo con regularización L2 logra una precisión de hasta un 95–98% en entrenamiento, y 61–65% en testeo, mostrando una clara mejora en la capacidad de generalización. Además, su AUC de 0.66 indica un rendimiento superior al modelo sin regularización y al clasificador aleatorio (AUC=0.50).\n",
        "\n",
        "La curva ROC muestra gráficamente esta mejora: el modelo con regularización se mantiene más lejos de la diagonal aleatoria, con una mejor relación entre verdaderos positivos (TPR) y falsos positivos (FPR) para distintos umbrales.\n",
        "\n",
        "Por último, el uso de un mapa polinómico de orden 2 permite capturar relaciones no lineales entre las variables, lo que mejora el rendimiento, aunque con un mayor costo computacional.\n"
      ]
    }
  ],
  "metadata": {
    "colab": {
      "provenance": []
    },
    "kernelspec": {
      "display_name": "Python 3",
      "language": "python",
      "name": "python3"
    },
    "language_info": {
      "codemirror_mode": {
        "name": "ipython",
        "version": 3
      },
      "file_extension": ".py",
      "mimetype": "text/x-python",
      "name": "python",
      "nbconvert_exporter": "python",
      "pygments_lexer": "ipython3",
      "version": "3.11.9"
    }
  },
  "nbformat": 4,
  "nbformat_minor": 0
}
