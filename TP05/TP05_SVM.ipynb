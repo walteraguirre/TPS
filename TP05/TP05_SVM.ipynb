{
 "cells": [
  {
   "cell_type": "markdown",
   "id": "232060af",
   "metadata": {},
   "source": [
    "# TP05 - Máquina de vectores soporte (SVM)\n",
    "\n"
   ]
  }
 ],
 "metadata": {
  "language_info": {
   "name": "python"
  }
 },
 "nbformat": 4,
 "nbformat_minor": 5
}
