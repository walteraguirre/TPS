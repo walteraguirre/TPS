{
 "cells": [
  {
   "cell_type": "code",
   "execution_count": 6,
   "id": "f3041aee",
   "metadata": {},
   "outputs": [
    {
     "name": "stdout",
     "output_type": "stream",
     "text": [
      "## Cálculo y visualización de log-probabilidades a posteriori por instrumento\n",
      "\n",
      "En este bloque de código se analiza una señal de guitarra dividiéndola en frames y evaluando, para cada uno, la probabilidad de que haya sido generado por cada uno de los modelos entrenados de instrumentos. El procedimiento se realiza de la siguiente manera:\n",
      "\n",
      "1. **Extracción de frames**:\n",
      "   Se cargan los vectores de características (`X_frames`) correspondientes a los frames de la señal de guitarra, previamente procesados.\n",
      "\n",
      "2. **Cálculo de log-verosimilitudes**:\n",
      "   Para cada instrumento del conjunto `instruments`, se calcula la log-verosimilitud de cada frame usando su modelo GMM (Gaussian Mixture Model). Esto da como resultado una matriz `log_pxj` de tamaño `(n_instruments, n_frames)`.\n",
      "\n",
      "3. **Cálculo de probabilidades a priori \\( P(j) \\)**:\n",
      "   A partir de los datos de entrenamiento (`X_train`), se calcula la proporción de muestras correspondientes a cada instrumento. Esto permite obtener una distribución de probabilidad a priori para cada clase (instrumento).\n",
      "\n",
      "4. **Cálculo de probabilidades a posteriori \\( P(j \\mid x_t) \\)**:\n",
      "   Utilizando la regla de Bayes en logaritmos:\n",
      "   \\[\n",
      "   \\log P(j \\mid x_t) \\propto \\log P(x_t \\mid j) + \\log P(j)\n",
      "   \\]\n",
      "   Se suman las log-verosimilitudes y los log-priors para cada frame, y se aplica la función `softmax` a lo largo del eje temporal para obtener las probabilidades a posteriori normalizadas.\n",
      "\n",
      "5. **Conversión de frames a tiempo**:\n",
      "   Se calcula el eje temporal en segundos usando la frecuencia de muestreo (`sr = 44100 Hz`) y el `hop_length = 32` (cantidad de muestras entre frames). Esto permite ubicar cada frame en su posición temporal real dentro de la señal.\n",
      "\n",
      "6. **Visualización**:\n",
      "   Finalmente, se grafica la evolución temporal de las log-probabilidades a posteriori para cada instrumento. En el eje x se representa el tiempo (en segundos), y en el eje y se muestra \\( \\log P(j \\mid x_t) \\), es decir, la confianza (en escala logarítmica) de cada modelo en que el frame \\( x_t \\) pertenece al instrumento \\( j \\).\n",
      "\n",
      "Este análisis permite observar, a lo largo del tiempo, cuál instrumento es más probable según los modelos entrenados, y cómo varía esa probabilidad frame a frame.\n",
      "\n",
      "Archivo guardado en: texto_new.txt\n"
     ]
    }
   ],
   "source": [
    "def reemplazar_tex_en_archivo(ruta_entrada, ruta_salida=None):\n",
    "    # Leer el archivo original\n",
    "    with open(ruta_entrada, 'r', encoding='utf-8') as f:\n",
    "        texto = f.read()\n",
    "\n",
    "    # Reemplazar los delimitadores LaTeX por los correspondientes de Markdown o MathJax\n",
    "    texto = texto.replace(\"\\\\(\", \"$\").replace(\"\\\\)\", \"$\")\n",
    "    texto = texto.replace(\"\\\\[\", \"$$\").replace(\"\\\\]\", \"$$\")\n",
    "\n",
    "    # Si no se especifica ruta de salida, se sobreescribe el archivo original\n",
    "    if ruta_salida is None:\n",
    "        ruta_salida = ruta_entrada\n",
    "\n",
    "    # Escribir el texto modificado\n",
    "    with open(ruta_salida, 'w', encoding='utf-8') as f:\n",
    "        f.write(texto)\n",
    "\n",
    "    print(f\"Archivo guardado en: {ruta_salida}\")\n",
    "\n",
    "# Ver el contenido original\n",
    "with open(\"texto_old.txt\", 'r', encoding='utf-8') as f:\n",
    "    print(f.read())\n",
    "\n",
    "# Aplicar reemplazos\n",
    "reemplazar_tex_en_archivo(\"texto_old.txt\", ruta_salida=\"texto_new.txt\")\n",
    "\n"
   ]
  }
 ],
 "metadata": {
  "kernelspec": {
   "display_name": "Python 3",
   "language": "python",
   "name": "python3"
  },
  "language_info": {
   "codemirror_mode": {
    "name": "ipython",
    "version": 3
   },
   "file_extension": ".py",
   "mimetype": "text/x-python",
   "name": "python",
   "nbconvert_exporter": "python",
   "pygments_lexer": "ipython3",
   "version": "3.11.9"
  }
 },
 "nbformat": 4,
 "nbformat_minor": 5
}
